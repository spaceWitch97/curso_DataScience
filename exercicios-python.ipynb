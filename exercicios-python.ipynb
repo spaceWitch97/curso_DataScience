{
 "cells": [
  {
   "cell_type": "code",
   "execution_count": 1,
   "metadata": {},
   "outputs": [],
   "source": [
    "# Declare uma variavel chamada a e atribua o valor 10 a ela\n",
    "a = 10"
   ]
  },
  {
   "cell_type": "code",
   "execution_count": 2,
   "metadata": {},
   "outputs": [
    {
     "name": "stdout",
     "output_type": "stream",
     "text": [
      "10\n"
     ]
    }
   ],
   "source": [
    "# Imprime essa variavel que você acabou de criar\n",
    "print(a)"
   ]
  },
  {
   "cell_type": "code",
   "execution_count": 4,
   "metadata": {},
   "outputs": [],
   "source": [
    "# Crie uma outra variavel b que recebe o valor de a so que como string\n",
    "b = str(a)"
   ]
  },
  {
   "cell_type": "code",
   "execution_count": 7,
   "metadata": {},
   "outputs": [],
   "source": [
    "# Combine sua variavel b a variavel abaixo para obter a string \"Hello 10\" em uma variavel d\n",
    "c = 'Hello '\n",
    "d =  (c + b)\n"
   ]
  },
  {
   "cell_type": "code",
   "execution_count": 8,
   "metadata": {},
   "outputs": [
    {
     "name": "stdout",
     "output_type": "stream",
     "text": [
      "Hello 10\n"
     ]
    }
   ],
   "source": [
    "# Imprima a variável d\n",
    "print(d)"
   ]
  },
  {
   "cell_type": "code",
   "execution_count": 14,
   "metadata": {},
   "outputs": [
    {
     "name": "stdout",
     "output_type": "stream",
     "text": [
      "Olá, Mundo?\n"
     ]
    }
   ],
   "source": [
    "#STRING\n",
    "myStr = 'Olá, Mundo!'\n",
    "# Substitua a exclamação da frase por uma interrogação\n",
    "# (Dica: A funcão altera inplace ou retorna uma copia modificada?)\n",
    "print(myStr.replace('!', '?'))"
   ]
  },
  {
   "cell_type": "code",
   "execution_count": 19,
   "metadata": {},
   "outputs": [
    {
     "name": "stdout",
     "output_type": "stream",
     "text": [
      "1\n",
      "23\n",
      "31\n",
      "40\n",
      "56\n",
      "16\n"
     ]
    }
   ],
   "source": [
    "lista = [1, 23, 31, 40, 56, 16]\n",
    "# Faça um for que imprima cada elemento da lista \"lista\" \n",
    "#(Lembre-se que o for em python é um for each)\n",
    "for item in lista:\n",
    "    print(item)\n",
    "    "
   ]
  },
  {
   "cell_type": "code",
   "execution_count": 20,
   "metadata": {},
   "outputs": [
    {
     "name": "stdout",
     "output_type": "stream",
     "text": [
      "2\n",
      "46\n",
      "62\n",
      "80\n",
      "112\n",
      "32\n"
     ]
    }
   ],
   "source": [
    "# Faça um for que imprima o dobro de cada elemento da lista \"lista\"\n",
    "for uni in lista:\n",
    "    print(uni * 2)"
   ]
  },
  {
   "cell_type": "code",
   "execution_count": null,
   "metadata": {},
   "outputs": [],
   "source": [
    "# Gere uma lista chamada \"dobro\" com o dobro de cada elemento de \"lista\"\n",
    "#usando list comprehension\n",
    "\n"
   ]
  },
  {
   "cell_type": "code",
   "execution_count": null,
   "metadata": {},
   "outputs": [],
   "source": [
    "# Crie uma nova lista chamada \"pares\"\n",
    "# Faça um for que itetere sobre a lista \"lista\" e para cada elemento impar coloque ele no fim da lista \"pares\"\n",
    "# Imprima a lista \"pares\"\n"
   ]
  }
 ],
 "metadata": {
  "kernelspec": {
   "display_name": "Python 3",
   "language": "python",
   "name": "python3"
  },
  "language_info": {
   "codemirror_mode": {
    "name": "ipython",
    "version": 3
   },
   "file_extension": ".py",
   "mimetype": "text/x-python",
   "name": "python",
   "nbconvert_exporter": "python",
   "pygments_lexer": "ipython3",
   "version": "3.8.3"
  },
  "widgets": {
   "application/vnd.jupyter.widget-state+json": {
    "state": {},
    "version_major": 2,
    "version_minor": 0
   }
  }
 },
 "nbformat": 4,
 "nbformat_minor": 4
}
